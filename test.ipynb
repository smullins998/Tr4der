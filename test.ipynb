{
 "cells": [
  {
   "cell_type": "code",
   "execution_count": null,
   "metadata": {},
   "outputs": [],
   "source": []
  },
  {
   "cell_type": "code",
   "execution_count": 1,
   "metadata": {},
   "outputs": [
    {
     "name": "stdout",
     "output_type": "stream",
     "text": [
      "Loading data...\n"
     ]
    },
    {
     "name": "stderr",
     "output_type": "stream",
     "text": [
      "[*********************100%***********************]  1 of 1 completed\n",
      "[*********************100%***********************]  1 of 1 completed\n",
      "100%|██████████| 2/2 [00:00<00:00,  3.86it/s]\n"
     ]
    },
    {
     "name": "stdout",
     "output_type": "stream",
     "text": [
      "                 UBER       LYFT\n",
      "Date                            \n",
      "2019-03-29        NaN  78.290001\n",
      "2019-04-01        NaN  69.010002\n",
      "2019-04-02        NaN  68.970001\n",
      "2019-04-03        NaN  70.000000\n",
      "2019-04-04        NaN  72.000000\n",
      "...               ...        ...\n",
      "2023-09-25  44.910000   9.780000\n",
      "2023-09-26  44.270000   9.920000\n",
      "2023-09-27  45.139999  10.320000\n",
      "2023-09-28  46.139999  10.510000\n",
      "2023-09-29  45.990002  10.540000\n",
      "\n",
      "[1135 rows x 2 columns]\n",
      "[{'role': 'system', 'content': 'You are a quantitative analyst. You are given a prompt. You need to identify the type of strategy that the user is looking for. Return only the strategy identifier, no markdown or comments.'}, {'role': 'user', 'content': \"Return the strategy that matches that of the prompt with the correct arguments and parameters in place. If there is no match, return 'other'.  Here are the strategies: ['long_only', 'pair_trade', 'short_only', 'other'].  Here is the prompt: [I want to pair trade uber and lyft over the past 5 years.]\\n\"}]\n",
      "ChatCompletion(id='chatcmpl-A6MDqzxtFOGhKakyyJSrHHuxyl5ev', choices=[Choice(finish_reason='stop', index=0, logprobs=None, message=ChatCompletionMessage(content='pair_trade', role='assistant', function_call=None, tool_calls=None, refusal=None))], created=1726078754, model='gpt-4o-mini-2024-07-18', object='chat.completion', system_fingerprint='fp_54e2f484be', usage=CompletionUsage(completion_tokens=2, prompt_tokens=121, total_tokens=123))\n"
     ]
    }
   ],
   "source": [
    "import yfinance as yf\n",
    "from pandas import DataFrame\n",
    "import pandas as pd\n",
    "from datetime import date\n",
    "import openai\n",
    "from typing import Dict, Any\n",
    "import os\n",
    "from tqdm import tqdm\n",
    "from tr4der.utils.data_loader import DataLoader\n",
    "from tr4der.utils.gpt_helper import GptHelper\n",
    "from tr4der.tr4der import Tr4der\n",
    "\n",
    "inst = Tr4der(\"I want to pair trade uber and lyft over the past 5 years and be short lyft and long uber.\")"
   ]
  },
  {
   "cell_type": "code",
   "execution_count": 1,
   "metadata": {},
   "outputs": [
    {
     "data": {
      "text/plain": [
       "['long_only', 'pair_trade', 'short_only', 'other']"
      ]
     },
     "execution_count": 1,
     "metadata": {},
     "output_type": "execute_result"
    }
   ],
   "source": [
    "from tr4der.trades import SimpleTrades\n",
    "\n",
    "\n",
    "[method for method in dir(SimpleTrades) if callable(getattr(SimpleTrades, method)) and not (method.startswith('__') and method.endswith('__'))] + ['other']\n",
    "\n"
   ]
  },
  {
   "cell_type": "code",
   "execution_count": 2,
   "metadata": {},
   "outputs": [
    {
     "data": {
      "text/plain": [
       "<function tr4der.trades.SimpleTrades.pair_trade(self, df: pandas.core.frame.DataFrame, long_ticker: str, short_ticker: str) -> None>"
      ]
     },
     "execution_count": 2,
     "metadata": {},
     "output_type": "execute_result"
    }
   ],
   "source": [
    "getattr(SimpleTrades, 'pair_trade')"
   ]
  },
  {
   "cell_type": "code",
   "execution_count": null,
   "metadata": {},
   "outputs": [],
   "source": []
  }
 ],
 "metadata": {
  "kernelspec": {
   "display_name": "Python 3",
   "language": "python",
   "name": "python3"
  },
  "language_info": {
   "codemirror_mode": {
    "name": "ipython",
    "version": 3
   },
   "file_extension": ".py",
   "mimetype": "text/x-python",
   "name": "python",
   "nbconvert_exporter": "python",
   "pygments_lexer": "ipython3",
   "version": "3.10.5"
  }
 },
 "nbformat": 4,
 "nbformat_minor": 2
}
