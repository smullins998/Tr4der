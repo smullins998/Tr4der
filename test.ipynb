{
 "cells": [
  {
   "cell_type": "code",
   "execution_count": 1,
   "metadata": {},
   "outputs": [
    {
     "name": "stdout",
     "output_type": "stream",
     "text": [
      "filtered_stocks = self._ticker_data[(self._ticker_data['ticker'] == 'UBER')]\n",
      "import yfinance as yf\n",
      "import pandas as pd\n",
      "\n",
      "tickers = ['UBER']\n",
      "start_date = '2019-10-19'\n",
      "end_date = '2023-10-19'\n",
      "_strategy_data = pd.DataFrame()\n",
      "\n",
      "for ticker in tickers:\n",
      "    data = yf.download(ticker, start=start_date, end=end_date)\n",
      "    _strategy_data[ticker] = data['Close']\n",
      "Loading data...\n"
     ]
    },
    {
     "name": "stderr",
     "output_type": "stream",
     "text": [
      "[*********************100%***********************]  1 of 1 completed\n"
     ]
    },
    {
     "name": "stdout",
     "output_type": "stream",
     "text": [
      "{'long': <function SimpleStrategies.long at 0x12426d870>, 'long_short': <function SimpleStrategies.long_short at 0x12426d990>, 'short': <function SimpleStrategies.short at 0x12426d900>, 'macd_trend_following': <function TechnicalAnalysisStrategies.macd_trend_following at 0x1242adf30>, 'mean_reversion_bollinger_bands': <function TechnicalAnalysisStrategies.mean_reversion_bollinger_bands at 0x1242ae050>, 'mean_reversion_moving_average': <function TechnicalAnalysisStrategies.mean_reversion_moving_average at 0x1242adfc0>, 'momentum_strategy': <function TechnicalAnalysisStrategies.momentum_strategy at 0x1242adea0>, 'pairs_trading': <function TechnicalAnalysisStrategies.pairs_trading at 0x1242ae0e0>, 'LSTM': <function MachineLearningStrategies.LSTM at 0x1257b3010>, 'decision_tree_regression': <function MachineLearningStrategies.prepare_data.<locals>.wrapper at 0x1257b2dd0>, 'linear_regression': <function MachineLearningStrategies.prepare_data.<locals>.wrapper at 0x1257b2a70>, 'neural_network_regression': <function MachineLearningStrategies.prepare_data.<locals>.wrapper at 0x1257b2f80>, 'prepare_data': <function MachineLearningStrategies.prepare_data at 0x12577b880>, 'svm_regression': <function MachineLearningStrategies.prepare_data.<locals>.wrapper at 0x1257b2c20>, 'train_test_evaluate': <function MachineLearningStrategies.train_test_evaluate at 0x1257b28c0>}\n",
      "[{'role': 'system', 'content': 'You are a quantitative analyst. You are given a prompt and a strategy definition. You need to call the strategy with the correct arguments and parameters. Return only the code, no markdown or comments.'}, {'role': 'user', 'content': 'Return the code to call the strategy with the correct arguments and parameters.  Pass the dataframe specifically as \"self._strategy_data\". Here is the prompt: [I want to use a neural network to trade uber for the past 4 years] Here is the class to call: [<function MachineLearningStrategies.prepare_data.<locals>.wrapper at 0x1257b2f80>] Here are the arguments and parameters: [OrderedDict([(\\'df\\', <Parameter \"df: pandas.core.frame.DataFrame\">), (\\'technical_indicators\\', <Parameter \"technical_indicators: List[str]\">), (\\'args\\', <Parameter \"*args\">), (\\'kwargs\\', <Parameter \"**kwargs\">)])] Use uppercase for tickers. The call should look like this: class_name.your_strategy(df=self._strategy_data, *args, **kwargs) where the class_name is the name of the class and the your_strategy is the name of the strategy.'}]\n",
      "class_name.prepare_data(df=self._strategy_data, technical_indicators=[], *args, **kwargs)\n"
     ]
    },
    {
     "ename": "RuntimeError",
     "evalue": "Error executing strategy code: name 'class_name' is not defined",
     "output_type": "error",
     "traceback": [
      "\u001b[0;31m---------------------------------------------------------------------------\u001b[0m",
      "\u001b[0;31mNameError\u001b[0m                                 Traceback (most recent call last)",
      "File \u001b[0;32m~/Desktop/Jobs/Portfolio/tr4der/tr4der/utils/gpt_helper.py:187\u001b[0m, in \u001b[0;36mGptHelper._gpt_call_strategy_execute\u001b[0;34m(self)\u001b[0m\n\u001b[1;32m    186\u001b[0m \u001b[38;5;28;01mtry\u001b[39;00m:\n\u001b[0;32m--> 187\u001b[0m     \u001b[43mexec\u001b[49m\u001b[43m(\u001b[49m\u001b[38;5;124;43mf\u001b[39;49m\u001b[38;5;124;43m\"\u001b[39;49m\u001b[38;5;124;43mresult = \u001b[39;49m\u001b[38;5;132;43;01m{\u001b[39;49;00m\u001b[38;5;28;43mself\u001b[39;49m\u001b[38;5;241;43m.\u001b[39;49m\u001b[43m_strategy_function_call\u001b[49m\u001b[38;5;132;43;01m}\u001b[39;49;00m\u001b[38;5;124;43m\"\u001b[39;49m\u001b[43m,\u001b[49m\u001b[43m \u001b[49m\u001b[43mnamespace\u001b[49m\u001b[43m)\u001b[49m\n\u001b[1;32m    188\u001b[0m     result \u001b[38;5;241m=\u001b[39m namespace[\u001b[38;5;124m'\u001b[39m\u001b[38;5;124mresult\u001b[39m\u001b[38;5;124m'\u001b[39m]\n",
      "File \u001b[0;32m<string>:1\u001b[0m\n",
      "\u001b[0;31mNameError\u001b[0m: name 'class_name' is not defined",
      "\nDuring handling of the above exception, another exception occurred:\n",
      "\u001b[0;31mRuntimeError\u001b[0m                              Traceback (most recent call last)",
      "Cell \u001b[0;32mIn[1], line 7\u001b[0m\n\u001b[1;32m      3\u001b[0m \u001b[38;5;28;01mfrom\u001b[39;00m \u001b[38;5;21;01mtr4der\u001b[39;00m\u001b[38;5;21;01m.\u001b[39;00m\u001b[38;5;21;01mtr4der\u001b[39;00m \u001b[38;5;28;01mimport\u001b[39;00m Tr4der\n\u001b[1;32m      5\u001b[0m query \u001b[38;5;241m=\u001b[39m \u001b[38;5;124m\"\u001b[39m\u001b[38;5;124mI want to use a neural network to trade uber for the past 4 years\u001b[39m\u001b[38;5;124m\"\u001b[39m\n\u001b[0;32m----> 7\u001b[0m inst \u001b[38;5;241m=\u001b[39m \u001b[43mTr4der\u001b[49m\u001b[43m(\u001b[49m\u001b[43mquery\u001b[49m\u001b[43m)\u001b[49m\n",
      "File \u001b[0;32m~/Desktop/Jobs/Portfolio/tr4der/tr4der/tr4der.py:29\u001b[0m, in \u001b[0;36mTr4der.__init__\u001b[0;34m(self, data_prompt)\u001b[0m\n\u001b[1;32m     27\u001b[0m \u001b[38;5;66;03m# Load the data\u001b[39;00m\n\u001b[1;32m     28\u001b[0m \u001b[38;5;28mself\u001b[39m\u001b[38;5;241m.\u001b[39m_data_loader \u001b[38;5;241m=\u001b[39m DataLoader(data_prompt)\n\u001b[0;32m---> 29\u001b[0m \u001b[38;5;28;43mself\u001b[39;49m\u001b[38;5;241;43m.\u001b[39;49m\u001b[43m_data_loader\u001b[49m\u001b[38;5;241;43m.\u001b[39;49m\u001b[43mexecute_code\u001b[49m\u001b[43m(\u001b[49m\u001b[43m)\u001b[49m\n\u001b[1;32m     31\u001b[0m \u001b[38;5;66;03m# Allow flexibility to explore different strategies with different parameters.\u001b[39;00m\n\u001b[1;32m     32\u001b[0m \u001b[38;5;66;03m# Ultimately the user could pass in a strategy object and then we can call the execute method.\u001b[39;00m\n\u001b[1;32m     33\u001b[0m \u001b[38;5;28mself\u001b[39m\u001b[38;5;241m.\u001b[39mSimpleStrategies \u001b[38;5;241m=\u001b[39m SimpleStrategies()\n",
      "File \u001b[0;32m~/Desktop/Jobs/Portfolio/tr4der/tr4der/utils/data_loader.py:34\u001b[0m, in \u001b[0;36mDataLoader.execute_code\u001b[0;34m(self)\u001b[0m\n\u001b[1;32m     33\u001b[0m \u001b[38;5;28;01mdef\u001b[39;00m \u001b[38;5;21mexecute_code\u001b[39m(\u001b[38;5;28mself\u001b[39m) \u001b[38;5;241m-\u001b[39m\u001b[38;5;241m>\u001b[39m \u001b[38;5;28;01mNone\u001b[39;00m:\n\u001b[0;32m---> 34\u001b[0m     \u001b[38;5;28;43mself\u001b[39;49m\u001b[38;5;241;43m.\u001b[39;49m\u001b[43m_gpt_helper\u001b[49m\u001b[38;5;241;43m.\u001b[39;49m\u001b[43mexecute_code\u001b[49m\u001b[43m(\u001b[49m\u001b[43m)\u001b[49m\n\u001b[1;32m     35\u001b[0m     \u001b[38;5;28mself\u001b[39m\u001b[38;5;241m.\u001b[39m_strategy_data \u001b[38;5;241m=\u001b[39m \u001b[38;5;28mself\u001b[39m\u001b[38;5;241m.\u001b[39m_gpt_helper\u001b[38;5;241m.\u001b[39mstrategy_data\n",
      "File \u001b[0;32m~/Desktop/Jobs/Portfolio/tr4der/tr4der/utils/gpt_helper.py:200\u001b[0m, in \u001b[0;36mGptHelper.execute_code\u001b[0;34m(self)\u001b[0m\n\u001b[1;32m    198\u001b[0m \u001b[38;5;28mself\u001b[39m\u001b[38;5;241m.\u001b[39m_gpt_identify_strategy()\n\u001b[1;32m    199\u001b[0m \u001b[38;5;28mself\u001b[39m\u001b[38;5;241m.\u001b[39m_gpt_call_strategy()\n\u001b[0;32m--> 200\u001b[0m \u001b[38;5;28;43mself\u001b[39;49m\u001b[38;5;241;43m.\u001b[39;49m\u001b[43m_gpt_call_strategy_execute\u001b[49m\u001b[43m(\u001b[49m\u001b[43m)\u001b[49m\n",
      "File \u001b[0;32m~/Desktop/Jobs/Portfolio/tr4der/tr4der/utils/gpt_helper.py:190\u001b[0m, in \u001b[0;36mGptHelper._gpt_call_strategy_execute\u001b[0;34m(self)\u001b[0m\n\u001b[1;32m    188\u001b[0m     result \u001b[38;5;241m=\u001b[39m namespace[\u001b[38;5;124m'\u001b[39m\u001b[38;5;124mresult\u001b[39m\u001b[38;5;124m'\u001b[39m]\n\u001b[1;32m    189\u001b[0m \u001b[38;5;28;01mexcept\u001b[39;00m \u001b[38;5;167;01mException\u001b[39;00m \u001b[38;5;28;01mas\u001b[39;00m e:\n\u001b[0;32m--> 190\u001b[0m     \u001b[38;5;28;01mraise\u001b[39;00m \u001b[38;5;167;01mRuntimeError\u001b[39;00m(\u001b[38;5;124mf\u001b[39m\u001b[38;5;124m\"\u001b[39m\u001b[38;5;124mError executing strategy code: \u001b[39m\u001b[38;5;132;01m{\u001b[39;00m\u001b[38;5;28mstr\u001b[39m(e)\u001b[38;5;132;01m}\u001b[39;00m\u001b[38;5;124m\"\u001b[39m)\n",
      "\u001b[0;31mRuntimeError\u001b[0m: Error executing strategy code: name 'class_name' is not defined"
     ]
    }
   ],
   "source": [
    "import yfinance as yf\n",
    "import pandas as pd\n",
    "from tr4der.tr4der import Tr4der\n",
    "\n",
    "query = \"I want to use a neural network to trade uber for the past 4 years\"\n",
    "\n",
    "inst = Tr4der(query)\n"
   ]
  },
  {
   "cell_type": "code",
   "execution_count": null,
   "metadata": {},
   "outputs": [],
   "source": [
    "df = inst.strategy_data\n",
    "\n",
    "df.dropna(inplace=True)"
   ]
  },
  {
   "cell_type": "code",
   "execution_count": null,
   "metadata": {},
   "outputs": [],
   "source": [
    "import re\n",
    "import ta\n",
    "from sklearn.model_selection import train_test_split\n",
    "from sklearn.neural_network import MLPRegressor\n",
    "import numpy as np\n",
    "\n",
    "ticker = \"UBER\"\n",
    "technical_indicators = ['SMA_20', 'SMA_50', 'EMA_20', 'EMA_50', 'RSI_14']\n",
    "\n",
    "# Split the data into training and testing sets\n",
    "train_data, test_data = train_test_split(df, test_size=0.5, random_state=0, shuffle=False)\n",
    "\n",
    "# Separate features and target variable\n",
    "print(train_data.columns)\n",
    "train_features = train_data[technical_indicators + ['Previous_Day_Return']]\n",
    "train_target = train_data[f'{ticker}_return']\n",
    "\n",
    "# Create and train the SVR model\n",
    "mlp = MLPRegressor(hidden_layer_sizes=(100,100), max_iter=1000, shuffle=False)\n",
    "mlp.fit(train_features, train_target)\n",
    "\n",
    "# Make predictions on the test set\n",
    "test_features = test_data[technical_indicators + ['Previous_Day_Return']]\n",
    "test_target = test_data[f'{ticker}_return']\n",
    "predictions = mlp.predict(test_features)\n",
    "test_data['predictions'] = predictions\n",
    "\n",
    "\n",
    "#We actually find a very good negative correlation between this ML model. \n",
    "#Let's add signals for buying/selling\n",
    "test_data[f'{ticker}_signal'] = np.where(test_data['predictions'] > 0, 'Buy', 'Sell')\n",
    "\n",
    "test_data[f'{ticker}_position'] = np.where(test_data[f'{ticker}_signal'] == 'Buy', 1, -1)\n",
    "test_data[f'Total_Return'] = test_data[f'{ticker}_position'] * test_data[f'{ticker}_return']\n",
    "test_data[f'Cumulative_Return'] = (1 + test_data[f'Total_Return']).cumprod()\n",
    "test_data[f'Drawdown'] = (test_data[f'Cumulative_Return'] / test_data[f'Cumulative_Return'].cummax()) - 1\n",
    "\n",
    "from sklearn.metrics import r2_score\n",
    "\n",
    "r_squared = r2_score(test_target, predictions)\n",
    "print(f\"R-squared: {r_squared}\")\n",
    "    "
   ]
  },
  {
   "cell_type": "code",
   "execution_count": null,
   "metadata": {},
   "outputs": [],
   "source": [
    "test_data.tail(50)\n"
   ]
  },
  {
   "cell_type": "code",
   "execution_count": null,
   "metadata": {},
   "outputs": [],
   "source": [
    "import matplotlib.pyplot as plt\n",
    "from sklearn.metrics import mean_squared_error\n",
    "\n",
    "# ... existing code ...\n",
    "\n",
    "# Calculate the error for each prediction\n",
    "test_data['error'] = test_data[f'{ticker}_return'] - test_data['predictions']\n",
    "\n",
    "# Calculate Mean Squared Error\n",
    "mse = mean_squared_error(test_target, predictions)\n",
    "print(f\"Mean Squared Error: {mse}\")\n",
    "\n",
    "# Plot the training error over iterations\n",
    "plt.figure(figsize=(14, 7))\n",
    "plt.plot(mlp.loss_curve_, label='Training Error')\n",
    "plt.xlabel('Iterations')\n",
    "plt.ylabel('Loss')\n",
    "plt.title('Neural Network Training Error Over Iterations')\n",
    "plt.legend()\n",
    "plt.show()\n",
    "\n",
    "\n",
    "# ... existing code ..."
   ]
  },
  {
   "cell_type": "code",
   "execution_count": null,
   "metadata": {},
   "outputs": [],
   "source": [
    "def mydec(func):\n",
    "    def wrapper(*args, **kwargs):\n",
    "        print(\"Starting\")\n",
    "        result = func(*args, **kwargs)\n",
    "        print(\"Ending\")\n",
    "        return result\n",
    "    return wrapper\n",
    "\n",
    "@mydec\n"
   ]
  }
 ],
 "metadata": {
  "kernelspec": {
   "display_name": "Python 3",
   "language": "python",
   "name": "python3"
  },
  "language_info": {
   "codemirror_mode": {
    "name": "ipython",
    "version": 3
   },
   "file_extension": ".py",
   "mimetype": "text/x-python",
   "name": "python",
   "nbconvert_exporter": "python",
   "pygments_lexer": "ipython3",
   "version": "3.10.5"
  }
 },
 "nbformat": 4,
 "nbformat_minor": 2
}
