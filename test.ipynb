{
 "cells": [
  {
   "cell_type": "code",
   "execution_count": null,
   "metadata": {},
   "outputs": [],
   "source": []
  },
  {
   "cell_type": "code",
   "execution_count": 44,
   "metadata": {},
   "outputs": [
    {
     "name": "stderr",
     "output_type": "stream",
     "text": [
      "/var/folders/v8/l9k84q0j5dvb69nc7wjtd5x80000gn/T/ipykernel_60191/541624650.py:16: DtypeWarning: Columns (1067,1376,1403,1453,1644,1930,1990,2137,2159,2178,2519,2583,2617,2672,2803,3031,3101,3193,3327,3532,3548,3631,3661,3685,3727,3787,3847,3852,3924,3980,3993,4000,4016,4066,4070,4092,4199,4205,4292,4357,4366,4371,4420,4532,4562,4597,5129,5187,5316,5455,5672,5708,5888,5902,6063,6163,6174,6212,6304,6571,6919,7116,7149,7152,7161,7168,7183,7190,7205,7208,7221,7234,7242,7247,7249,7250,7260,7261,7262,7264,7265,7266,7267,7268,7269,7270,7272,7273,7274,7275,7276,7277,7278,7282,7284,7286,7288,7289,7292,7294,7295,7296,7297,7298,7299,7300,7303,7304,7305,7306,7307,7310,7312,7313,7314,7317,7320,7323,7324,7325,7326,7327,7329,7330,7332,7336,7338,7341,7342,7345,7346,7347,7348,7349,7351,7353,7354,7355,7356,7358,7359,7361,7362,7363,7366,7367,7368,7369,7373,7374,7376,7377,7380,7381,7382,7386,7387,7388,7389,7392,7393,7394,7395,7400,7402,7403,7406,7407,7408,7409,7410,7412,7415,7417,7421,7423,7424,7426,7427,7430,7431,7432,7433,7435,7436,7438,7439,7445,7446,7447,7448,7449,7450,7451,7454,7455,7456,7457,7462,7463,7464,7466,7467,7472,7473,7474,7475,7476,7477,7478,7480,7481,7482,7483,7485,7486,7488,7489,7490,7491,7492,7497,7498,7499,7501,7503,7506,7507,7508,7509,7510,7511,7513,7514,7515,7517,7518,7519,7520,7521,7523,7524,7525,7526,7528,7529,7531,7532,7533,7535,7537,7539,7540,7565,7578,7614,7652,7674,7721,7756,7760,7767,7777,7780,7813,7826,7827,7833,7841,7846,7848,7862,7865,7878,7889,7894,7911,7912,7921,7927,7950,7972,7974,8025,8028,8035,8041,8052,8066,8077,8082,8101,8109,8114,8149,8168,8192,8223,8279,8334,8417,8420,8422,8423,8424,8425,8426,8431,8432,8434,8440,8441,8443,8446,8448,8451,8453,8454,8455,8456,8460,8465,8467,8475,8476,8479,8484,8491,8492,8493,8498,8502,8503,8504,8505,8506,8511,8512,8513,8517,8523,8524,8526,8529,8534,8536,8544,8546,8547,8549,8550,8551,8553,8554,8562,8565,8570,8574,8576,8581,8582,8583,8584,8585,8586,8590,8591,8595,8596,8607,8612,8614,8615,8616,8618,8619,8620,8621,8626,8634,8636,8644,8645,8647,8649,8650,8652,8657,8658,8659,8660,8661,8662,8664,8665,8666,8667,8668,8670,8674,8675,8680,8681,8684,8688,8689,8690,8696,8698,8706,8707,8708,8710,8714,8717,8719,8721,8724,8741,8749,8750,8753,8754,8755,8756,8757,8762,8763,8764,8765,8767,8774,8775,8776,8777,8781,8782,8783,8784,8787,8793,8795,8796,8797,8798,8800,8801,8806,8808,8812,8813,8814,8815,8816,8817,8818,8823,8825,8826,8844,8872,8873,8874,8876,8877,8878,8879,8880,8882,8886,8890,8891,8893,8895,8900,8902,8904,8906,8907,8908,8909,8910,8919,8920,8924,8925,8931,8939,8940,8947,8948,8952,8953,8962,8963,8965,8971,8975,8981,8983,8988,8990,8991,8993,9000,9002,9003,9005,9008,9009,9012,9016,9017,9018,9020,9022,9037,9039,9042,9045,9048,9049,9068,9069,9070,9072,9089,9090,9091,9092,9093,9094,9095,9097,9099,9100,9102,9103,9105,9106,9113,9114,9115,9116,9119,9121,9123,9130,9131,9134,9135,9136,9137,9138,9141,9143,9149,9150,9158,9159,9162,9163,9166,9168,9182,9186,9194,9196,9197,9198,9200,9201,9207,9208,9209,9210,9211,9212,9213,9214,9216,9224,9226,9228,9229,9233,9234,9236,9238,9243,9245,9248,9250,9258,9259,9261,9264,9266,9267,9268,9271,9288,9295,9296,9299,9300,9303,9311,9312,9313,9314,9318,9319,9322,9323,9331,9332,9345,9350,9351,9354,9355,9356,9361,9363,9364,9365,9370,9371,9376,9377,9381,9386,9388,9389,9395,9398,9401,9403,9406,9415,9424,9425,9431,9440,9446,9447,9448,9449,9450,9452,9454,9466,9472,9483,9486,9489,9490,9491,9492,9495,9503,9504,9505,9507,9508,9512,9514,9520,9522,9523,9528,9538,9539,9543,9544,9545,9551,9552,9554,9556,9558,9568,9580,9583,9586,9587,9589,9590,9595,9597,9601,9602,9603,9607,9608,9609,9610,9624,9637,9645,9647,9655,9657,9664,9666,9670,9686,9694,9695,9698,9705,9709,9714,9724,9726,9732,9734,9735,9736,9741,9750,9757,9763,9781,9782,9784,9786,9808,9819,9831,9834,9842,9848,9849,9856,9857,9865,9868,9870,9887,9888,9895,9901,9913,9921,9925,9947,9954,9963,9965,9969,9972,9977,9978,9979,9987,9993,9997,10000,10012,10016,10023,10024,10033,10034,10036,10043,10047,10049,10051,10057,10058,10062,10066,10071,10073,10079,10080,10081,10083,10084,10086,10089,10092,10093,10094,10098,10099,10103,10104,10108,10111,10112,10113,10114,10115,10116,10117,10118,10120,10127,10129,10130,10133,10137,10141,10142) have mixed types. Specify dtype option on import or set low_memory=False.\n",
      "  self.ticker_data = pd.read_csv(\"./all_ticker_data.csv\", header=0).transpose()\n"
     ]
    },
    {
     "name": "stdout",
     "output_type": "stream",
     "text": [
      "Generated pandas code:\n",
      "self.ticker_data[self.ticker_data['marketCap'] > 100000000000]\n"
     ]
    }
   ],
   "source": [
    "import yfinance as yf\n",
    "from pandas import DataFrame\n",
    "import pandas as pd\n",
    "from datetime import date\n",
    "import openai\n",
    "from typing import Dict, Any\n",
    "import os\n",
    "\n",
    "openai.api_key = \"sk-KYMTz3dbIpE9T46HklkZI4g1n89NeN1Xsp7zOtyK60T3BlbkFJmfEKBHcO_CRFrZJzhbT25xCIJFD1kehCARRTqyfXUA\"\n",
    "\n",
    "class LoadData:\n",
    "    \n",
    "    def __init__(self, data_prompt: str) -> None:\n",
    "        \n",
    "        # Transform the data from csv to a dataframe\n",
    "        self.ticker_data = pd.read_csv(\"./tr4der/dataall_ticker_data.csv\", header=0).transpose()\n",
    "        self.ticker_data.columns = self.ticker_data.iloc[0]\n",
    "        self.ticker_data = self.ticker_data.iloc[1:]\n",
    "        self.ticker_data.reset_index(inplace=True)\n",
    "        self.ticker_data.rename(columns={\"index\": \"ticker\"}, inplace=True)\n",
    "        self.ticker_data['marketCap'] = self.ticker_data['marketCap'].astype(float)\n",
    "\n",
    "        self.data_prompt = data_prompt\n",
    "        self.pandas_code = self._pandas_code_generate(self.data_prompt)\n",
    "        #self.filtered_dataframe = self._pandas_code_execute()\n",
    "        \n",
    "        \n",
    "        \n",
    "        \n",
    "        \n",
    "        # self.gpt_response = self._get_gpt_response()\n",
    "        # self.data = self._execute_gpt_response()\n",
    "\n",
    "    def _get_gpt_response(self) -> str:\n",
    "        if not openai.api_key:\n",
    "            raise ValueError(\"OPENAI_API_KEY environment variable is not set\")\n",
    "        \n",
    "        response = openai.chat.completions.create(\n",
    "            model=\"gpt-4o-mini\",\n",
    "            messages=[\n",
    "                {\"role\": \"system\", \"content\": \"You are a helpful assistant that parses the user's prompt and returns the appropriate Python code to get data from Yahoo Finance. Return only Python code without markdown syntax or comments.\"},\n",
    "                {\"role\": \"user\", \"content\": self.data_prompt}\n",
    "            ]\n",
    "        )\n",
    "        print(response.choices[0].message.content)\n",
    "        return response.choices[0].message.content\n",
    "    \n",
    "    def _execute_gpt_response(self) -> Dict[str, Any]:\n",
    "        \n",
    "        namespace: Dict[str, Any] = {\"yf\": yf, \"DataFrame\": DataFrame, \"date\": date}\n",
    "        \n",
    "        try:\n",
    "            exec(self.pandas_intermediate_data, namespace)\n",
    "        except Exception as e:\n",
    "            raise RuntimeError(f\"Error executing GPT response: {str(e)}\")\n",
    "        \n",
    "        # Find the variable that holds the result (assuming it's the last assignment)\n",
    "        result_vars = [var for var in namespace if not var.startswith(\"__\") and var not in [\"yf\", \"DataFrame\", \"date\"]]\n",
    "        if not result_vars:\n",
    "            raise ValueError(\"No result found in GPT response\")\n",
    "        \n",
    "        return namespace[result_vars[-1]]\n",
    "    \n",
    "    \n",
    "    \n",
    "    def _pandas_code_generate(self, data_prompt: str) -> str:\n",
    "        if not openai.api_key:\n",
    "            raise ValueError(\"OPENAI_API_KEY environment variable is not set\")\n",
    "        \n",
    "        response = openai.chat.completions.create(\n",
    "            model=\"gpt-4o-mini\",\n",
    "            messages=[\n",
    "                {\"role\": \"system\", \"content\": \"You are a data analyst and Python pandas expert. Generate concise, efficient pandas code to filter the dataframe. Return only the code, no markdown or comments.\"},\n",
    "                {\"role\": \"user\", \"content\": f\"Available columns: {', '.join(self.ticker_data.columns)}\\nDataFrame: self.ticker_data\\nTask: {data_prompt}\\n Generate pandas code to filter the dataframe based on the task.\"}\n",
    "            ]\n",
    "        )\n",
    "\n",
    "        result = response.choices[0].message.content\n",
    "\n",
    "        print(f\"Generated pandas code:\\n{res}\")\n",
    "        \n",
    "        return pandas_code\n",
    "\n",
    "\n",
    "    def _pandas_code_execute(self) -> Dict[str, Any]:\n",
    "        \n",
    "        namespace: Dict[str, Any] = {\"yf\": yf, \"DataFrame\": DataFrame, \"date\": date, 'self': self}\n",
    "        \n",
    "        try:\n",
    "            exec(self.pandas_code, namespace)\n",
    "        except Exception as e:\n",
    "            raise RuntimeError(f\"Error executing pandas code: {str(e)}\")\n",
    "        \n",
    "        # Find the variable that holds the result (assuming it's the last assignment)\n",
    "        result_vars = [var for var in namespace if not var.startswith(\"__\") and var not in [\"yf\", \"DataFrame\", \"date\"]]\n",
    "        if not result_vars:\n",
    "            raise ValueError(\"No result found in pandas code execution\")\n",
    "        print(namespace[result_vars[-1]])\n",
    "        return namespace[result_vars[-1]]\n",
    "    \n",
    "\n",
    "    def __str__(self) -> str:\n",
    "        return \"Object to load data from Yahoo Finance\"\n",
    "    \n",
    "    \n",
    "    \n",
    "\n",
    "inst = LoadData(\"I want to run analysis on all companies that have a market cap of over 100 billion dollars.\")\n",
    "\n",
    "\n",
    "#\n"
   ]
  },
  {
   "cell_type": "code",
   "execution_count": 17,
   "metadata": {},
   "outputs": [
    {
     "ename": "NameError",
     "evalue": "name 'self' is not defined",
     "output_type": "error",
     "traceback": [
      "\u001b[0;31m---------------------------------------------------------------------------\u001b[0m",
      "\u001b[0;31mNameError\u001b[0m                                 Traceback (most recent call last)",
      "Cell \u001b[0;32mIn[17], line 4\u001b[0m\n\u001b[1;32m      1\u001b[0m namespace: Dict[\u001b[38;5;28mstr\u001b[39m, Any] \u001b[38;5;241m=\u001b[39m {\u001b[38;5;124m\"\u001b[39m\u001b[38;5;124myf\u001b[39m\u001b[38;5;124m\"\u001b[39m: yf, \u001b[38;5;124m\"\u001b[39m\u001b[38;5;124mDataFrame\u001b[39m\u001b[38;5;124m\"\u001b[39m: DataFrame, \u001b[38;5;124m\"\u001b[39m\u001b[38;5;124mdate\u001b[39m\u001b[38;5;124m\"\u001b[39m: date}\n\u001b[0;32m----> 4\u001b[0m \u001b[43mexec\u001b[49m\u001b[43m(\u001b[49m\u001b[43minst\u001b[49m\u001b[38;5;241;43m.\u001b[39;49m\u001b[43mpandas_code\u001b[49m\u001b[43m,\u001b[49m\u001b[43m \u001b[49m\u001b[43mnamespace\u001b[49m\u001b[43m)\u001b[49m\n",
      "File \u001b[0;32m<string>:1\u001b[0m\n",
      "\u001b[0;31mNameError\u001b[0m: name 'self' is not defined"
     ]
    }
   ],
   "source": [
    "namespace: Dict[str, Any] = {\"yf\": yf, \"DataFrame\": DataFrame, \"date\": date}\n",
    "        \n",
    "\n",
    "exec(inst.pandas_code, namespace)"
   ]
  },
  {
   "cell_type": "code",
   "execution_count": null,
   "metadata": {},
   "outputs": [],
   "source": []
  }
 ],
 "metadata": {
  "kernelspec": {
   "display_name": "Python 3",
   "language": "python",
   "name": "python3"
  },
  "language_info": {
   "codemirror_mode": {
    "name": "ipython",
    "version": 3
   },
   "file_extension": ".py",
   "mimetype": "text/x-python",
   "name": "python",
   "nbconvert_exporter": "python",
   "pygments_lexer": "ipython3",
   "version": "3.10.5"
  }
 },
 "nbformat": 4,
 "nbformat_minor": 2
}
